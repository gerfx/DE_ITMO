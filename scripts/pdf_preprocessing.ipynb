{
  "cells": [
    {
      "cell_type": "code",
      "execution_count": null,
      "metadata": {
        "colab": {
          "base_uri": "https://localhost:8080/"
        },
        "id": "lmBlIBsjBN3M",
        "outputId": "2c85f630-7bfd-4044-c928-28fd6b3aa1a8"
      },
      "outputs": [
        {
          "name": "stdout",
          "output_type": "stream",
          "text": [
            "Requirement already satisfied: pymupdf in /usr/local/lib/python3.10/dist-packages (1.25.1)\n",
            "Requirement already satisfied: reportlab in /usr/local/lib/python3.10/dist-packages (4.2.5)\n",
            "Requirement already satisfied: pillow>=9.0.0 in /usr/local/lib/python3.10/dist-packages (from reportlab) (11.0.0)\n",
            "Requirement already satisfied: chardet in /usr/local/lib/python3.10/dist-packages (from reportlab) (5.2.0)\n"
          ]
        }
      ],
      "source": [
        "!pip install pymupdf reportlab"
      ]
    },
    {
      "cell_type": "code",
      "execution_count": null,
      "metadata": {
        "colab": {
          "base_uri": "https://localhost:8080/"
        },
        "id": "htJ8Bys_BJfp",
        "outputId": "58d9493f-d1e1-4bc5-e444-8f9bdd599e06"
      },
      "outputs": [
        {
          "name": "stdout",
          "output_type": "stream",
          "text": [
            "Requirement already satisfied: PyPDF2 in /usr/local/lib/python3.10/dist-packages (3.0.1)\n"
          ]
        }
      ],
      "source": [
        "!pip install PyPDF2"
      ]
    },
    {
      "cell_type": "markdown",
      "metadata": {
        "id": "ZSzylRH6nQAc"
      },
      "source": [
        "## Презентации в формате .pdf собранные вручную"
      ]
    },
    {
      "cell_type": "code",
      "execution_count": 23,
      "metadata": {
        "id": "V6q56BJ2HdHc"
      },
      "outputs": [],
      "source": [
        "raw_path = \"/content/raw_data_1\""
      ]
    },
    {
      "cell_type": "markdown",
      "metadata": {
        "id": "vcKJYlxKElM3"
      },
      "source": [
        "Проверка и очистка данных"
      ]
    },
    {
      "cell_type": "code",
      "execution_count": 24,
      "metadata": {
        "colab": {
          "base_uri": "https://localhost:8080/"
        },
        "id": "w42MBiXQBNCW",
        "outputId": "80af68b4-9988-42d5-d131-21d5026c8c26"
      },
      "outputs": [
        {
          "name": "stdout",
          "output_type": "stream",
          "text": [
            "2426HG2RXRZNRHX3YHORDF5C57PPAAHE (1).pdf: OK\n",
            "2NYYOQN3UKYWMKXDAMTWP4ZNMGBBTLCA.pdf: OK\n",
            "business-policy.pdf: OK\n",
            "2IOECB7XKI56SDSRDXHXTAUDGCMYTVI7.pdf: OK\n",
            "2L5JFJNVCBULD4V5UFNMPUKWM3BYSSYC (1).pdf: OK\n",
            "2C45NWO7FMTDRTBBR6FA442OZKSCLGZZ.pdf: OK\n",
            "2426HG2RXRZNRHX3YHORDF5C57PPAAHE (1) (1).pdf: OK\n",
            "25OOF5WZSJ4M6JG3BPYDO56GYBR65WET.pdf: OK\n",
            "27CRLC3DDVOHBJ27UZSHYXRO3OB4BHIY.pdf: OK\n"
          ]
        }
      ],
      "source": [
        "import os\n",
        "from PyPDF2 import PdfReader\n",
        "\n",
        "def check_pdf_files(directory):\n",
        "    for filename in os.listdir(directory):\n",
        "        if filename.endswith(\".pdf\"):\n",
        "            try:\n",
        "                path = os.path.join(directory, filename)\n",
        "                PdfReader(path)  # Пробуем открыть файл\n",
        "                print(f\"{filename}: OK\")\n",
        "            except Exception as e:\n",
        "                print(f\"{filename}: Error - {e}\")\n",
        "\n",
        "check_pdf_files(raw_path)\n"
      ]
    },
    {
      "cell_type": "markdown",
      "metadata": {
        "id": "whGKGVCEEuPq"
      },
      "source": [
        "Удаление пропусков и пустых слайдов"
      ]
    },
    {
      "cell_type": "code",
      "execution_count": 25,
      "metadata": {
        "colab": {
          "base_uri": "https://localhost:8080/"
        },
        "id": "OHI3xvmwEtv5",
        "outputId": "604d4f8c-9aaf-4813-e6cf-6666cf2f1096"
      },
      "outputs": [
        {
          "name": "stdout",
          "output_type": "stream",
          "text": [
            "Пустые слайды:\n",
            "Файл: 2L5JFJNVCBULD4V5UFNMPUKWM3BYSSYC (1).pdf, Слайд: 21\n",
            "Файл: 2L5JFJNVCBULD4V5UFNMPUKWM3BYSSYC (1).pdf, Слайд: 22\n",
            "Файл: 2L5JFJNVCBULD4V5UFNMPUKWM3BYSSYC (1).pdf, Слайд: 23\n",
            "Файл: 2L5JFJNVCBULD4V5UFNMPUKWM3BYSSYC (1).pdf, Слайд: 24\n",
            "Файл: 2L5JFJNVCBULD4V5UFNMPUKWM3BYSSYC (1).pdf, Слайд: 25\n"
          ]
        }
      ],
      "source": [
        "import fitz  # PyMuPDF\n",
        "\n",
        "def check_empty_slides(directory):\n",
        "    empty_slides = []\n",
        "    for filename in os.listdir(directory):\n",
        "        if filename.endswith(\".pdf\"):\n",
        "            path = os.path.join(directory, filename)\n",
        "            doc = fitz.open(path)\n",
        "\n",
        "            for page_num in range(len(doc)):\n",
        "                page = doc[page_num]\n",
        "                text = page.get_text()\n",
        "                if not text.strip():  # Если текст пустой\n",
        "                    empty_slides.append((filename, page_num + 1))\n",
        "\n",
        "    if empty_slides:\n",
        "        print(\"Пустые слайды:\")\n",
        "        for slide in empty_slides:\n",
        "            print(f\"Файл: {slide[0]}, Слайд: {slide[1]}\")\n",
        "    else:\n",
        "        print(\"Пустых слайдов не найдено.\")\n",
        "\n",
        "check_empty_slides(raw_path)\n"
      ]
    },
    {
      "cell_type": "markdown",
      "metadata": {
        "id": "WVRZgJnkE2be"
      },
      "source": [
        "Выбросы"
      ]
    },
    {
      "cell_type": "code",
      "execution_count": 26,
      "metadata": {
        "colab": {
          "base_uri": "https://localhost:8080/"
        },
        "id": "BnXIxUbLE3Ei",
        "outputId": "831bd1f4-a68a-48ac-f434-4d387a2cb091"
      },
      "outputs": [
        {
          "name": "stdout",
          "output_type": "stream",
          "text": [
            "Страницы с изображениями, без текста:\n",
            "Файл: 2L5JFJNVCBULD4V5UFNMPUKWM3BYSSYC (1).pdf, Слайд: 21\n",
            "Файл: 2L5JFJNVCBULD4V5UFNMPUKWM3BYSSYC (1).pdf, Слайд: 22\n",
            "Файл: 2L5JFJNVCBULD4V5UFNMPUKWM3BYSSYC (1).pdf, Слайд: 23\n",
            "Файл: 2L5JFJNVCBULD4V5UFNMPUKWM3BYSSYC (1).pdf, Слайд: 24\n",
            "Файл: 2L5JFJNVCBULD4V5UFNMPUKWM3BYSSYC (1).pdf, Слайд: 25\n"
          ]
        }
      ],
      "source": [
        "def check_image_only_pages(directory):\n",
        "    image_only_pages = []\n",
        "    for filename in os.listdir(directory):\n",
        "        if filename.endswith(\".pdf\"):\n",
        "            path = os.path.join(directory, filename)\n",
        "            doc = fitz.open(path)\n",
        "\n",
        "            for page_num in range(len(doc)):\n",
        "                page = doc[page_num]\n",
        "                text = page.get_text()\n",
        "\n",
        "                # Проверим, есть ли текст или только изображения\n",
        "                if not text.strip() and len(page.get_images(full=True)) > 0:\n",
        "                    image_only_pages.append((filename, page_num + 1))\n",
        "\n",
        "    if image_only_pages:\n",
        "        print(\"Страницы с изображениями, без текста:\")\n",
        "        for page in image_only_pages:\n",
        "            print(f\"Файл: {page[0]}, Слайд: {page[1]}\")\n",
        "    else:\n",
        "        print(\"Нет страниц с изображениями без текста.\")\n",
        "\n",
        "check_image_only_pages(raw_path)\n"
      ]
    },
    {
      "cell_type": "markdown",
      "metadata": {
        "id": "_2DFc3I7FHQn"
      },
      "source": [
        "Отчет об ошибках"
      ]
    },
    {
      "cell_type": "code",
      "execution_count": 27,
      "metadata": {
        "colab": {
          "base_uri": "https://localhost:8080/"
        },
        "id": "bf_U_DW2FGqf",
        "outputId": "630b7bcf-8068-4ba7-c821-3fa08d3ab4e6"
      },
      "outputs": [
        {
          "name": "stdout",
          "output_type": "stream",
          "text": [
            "[{'file': '2L5JFJNVCBULD4V5UFNMPUKWM3BYSSYC (1).pdf', 'empty_pages': [21, 22, 23, 24, 25]}]\n"
          ]
        }
      ],
      "source": [
        "import json\n",
        "\n",
        "def generate_clean_report(directory):\n",
        "    report = []\n",
        "    for filename in os.listdir(directory):\n",
        "        if filename.endswith(\".pdf\"):\n",
        "            path = os.path.join(directory, filename)\n",
        "            doc = fitz.open(path)\n",
        "            file_report = {\"file\": filename, \"empty_pages\": []}\n",
        "\n",
        "            for page_num in range(len(doc)):\n",
        "                page = doc[page_num]\n",
        "                text = page.get_text()\n",
        "                if not text.strip():\n",
        "                    file_report[\"empty_pages\"].append(page_num + 1)\n",
        "\n",
        "            if file_report[\"empty_pages\"]:\n",
        "                report.append(file_report)\n",
        "    print(report)\n",
        "    # Сохранить отчет в JSON\n",
        "    with open(\"cleaning_report.json\", \"w\") as f:\n",
        "        json.dump(report, f, indent=4)\n",
        "\n",
        "generate_clean_report(raw_path)\n"
      ]
    },
    {
      "cell_type": "markdown",
      "metadata": {
        "id": "XPbIJGPBnbte"
      },
      "source": [
        " Изменение имени файлов"
      ]
    },
    {
      "cell_type": "code",
      "execution_count": 28,
      "metadata": {
        "colab": {
          "base_uri": "https://localhost:8080/"
        },
        "id": "xmxrcHk_GBo-",
        "outputId": "180edf03-77e6-4a47-d89c-3beddf7ad4ac"
      },
      "outputs": [
        {
          "name": "stdout",
          "output_type": "stream",
          "text": [
            "Файл '2426HG2RXRZNRHX3YHORDF5C57PPAAHE (1).pdf' переименован в '2426hg2rxrznrhx3yhordf5c57ppaahe_1_20241213_153920.pdf'\n",
            "Файл '2NYYOQN3UKYWMKXDAMTWP4ZNMGBBTLCA.pdf' переименован в '2nyyoqn3ukywmkxdamtwp4znmgbbtlca_20241213_153920.pdf'\n",
            "Файл 'business-policy.pdf' переименован в 'businesspolicy_20241213_153920.pdf'\n",
            "Файл '2IOECB7XKI56SDSRDXHXTAUDGCMYTVI7.pdf' переименован в '2ioecb7xki56sdsrdxhxtaudgcmytvi7_20241213_153920.pdf'\n",
            "Файл '2L5JFJNVCBULD4V5UFNMPUKWM3BYSSYC (1).pdf' переименован в '2l5jfjnvcbuld4v5ufnmpukwm3byssyc_1_20241213_153920.pdf'\n",
            "Файл '2C45NWO7FMTDRTBBR6FA442OZKSCLGZZ.pdf' переименован в '2c45nwo7fmtdrtbbr6fa442ozksclgzz_20241213_153920.pdf'\n",
            "Файл '2426HG2RXRZNRHX3YHORDF5C57PPAAHE (1) (1).pdf' переименован в '2426hg2rxrznrhx3yhordf5c57ppaahe_1_1_20241213_153920.pdf'\n",
            "Файл '25OOF5WZSJ4M6JG3BPYDO56GYBR65WET.pdf' переименован в '25oof5wzsj4m6jg3bpydo56gybr65wet_20241213_153920.pdf'\n",
            "Файл '27CRLC3DDVOHBJ27UZSHYXRO3OB4BHIY.pdf' переименован в '27crlc3ddvohbj27uzshyxro3ob4bhiy_20241213_153920.pdf'\n"
          ]
        }
      ],
      "source": [
        "import os\n",
        "import re\n",
        "from datetime import datetime\n",
        "\n",
        "def rename_presentation_files(directory):\n",
        "    for filename in os.listdir(directory):\n",
        "        if filename.endswith(\".pdf\"):\n",
        "            # Получаем полный путь\n",
        "            old_path = os.path.join(directory, filename)\n",
        "\n",
        "            # Убираем расширение файла\n",
        "            base_name = os.path.splitext(filename)[0]\n",
        "\n",
        "            # Применяем преобразования для улучшения читаемости имени\n",
        "            # Пример: удаление ненужных символов, замена пробелов на нижнее подчеркивание и приведение к нижнему регистру\n",
        "            new_base_name = re.sub(r'[^\\w\\s]', '', base_name)  # Убираем все спецсимволы\n",
        "            new_base_name = new_base_name.replace(\" \", \"_\")  # Заменяем пробелы на подчеркивания\n",
        "            new_base_name = new_base_name.lower()  # Приводим к нижнему регистру\n",
        "\n",
        "            # Добавление метки времени (например, если у вас есть несколько версий одной презентации)\n",
        "            timestamp = datetime.now().strftime(\"%Y%m%d_%H%M%S\")\n",
        "            new_name = f\"{new_base_name}_{timestamp}.pdf\"\n",
        "\n",
        "            # Новый путь для файла\n",
        "            new_path = os.path.join(directory, new_name)\n",
        "\n",
        "            # Переименование файла\n",
        "            os.rename(old_path, new_path)\n",
        "            print(f\"Файл '{filename}' переименован в '{new_name}'\")\n",
        "\n",
        "# Пример использования\n",
        "rename_presentation_files(raw_path)\n"
      ]
    },
    {
      "cell_type": "code",
      "execution_count": null,
      "metadata": {
        "id": "zPg1zjhdDLTj"
      },
      "outputs": [],
      "source": [
        "!pip install PyPDF2 pdfplumber pillow pandas\n"
      ]
    },
    {
      "cell_type": "markdown",
      "metadata": {
        "id": "vrtB1hQtnith"
      },
      "source": [
        "## Анализ содержимого документов"
      ]
    },
    {
      "cell_type": "markdown",
      "metadata": {
        "id": "eQhE5VY9n0HG"
      },
      "source": [
        "Разметка данным по\n",
        "\n",
        "\n",
        "*   Шрифт\n",
        "*   Количество картинок\n",
        "*   Количество таблиц\n",
        "*   Дизайн\n",
        "\n"
      ]
    },
    {
      "cell_type": "code",
      "execution_count": null,
      "metadata": {
        "colab": {
          "base_uri": "https://localhost:8080/"
        },
        "id": "E1mREuc7D7RS",
        "outputId": "228d9715-360c-45b7-ac70-813bb65bc105"
      },
      "outputs": [
        {
          "name": "stdout",
          "output_type": "stream",
          "text": [
            "Обработка: 27crlc3ddvohbj27uzshyxro3ob4bhiy_20241213_124515.pdf\n",
            "Обработка: 2l5jfjnvcbuld4v5ufnmpukwm3byssyc_1_20241213_124515.pdf\n",
            "[[['National TB Program\\nObjectives', 'National TB Program\\nIndicators'], ['•\\nIncrease % of TB pts who\\ncomplete TB treatment within 12\\nmos.\\n•\\nIncrease % of TB pts with initial\\npositive cultures who also are\\ntested and receive drug\\nsusceptibility results\\n•\\nDecrease the TB case rate in\\nreporting areas\\n•\\nAt least 90% of core RVCT data\\nare complete.', '•\\nCompletion of therapy\\nrates\\n•\\nPercent of cultured\\nconfirmed drug cases with\\nsusceptibility results\\n•\\nTB case rate\\n•\\nCompleteness of RVCT\\nreporting']]]\n",
            "Очищенная таблица: [['National TB Program\\nObjectives', 'National TB Program\\nIndicators'], ['•\\nIncrease % of TB pts who\\ncomplete TB treatment within 12\\nmos.\\n•\\nIncrease % of TB pts with initial\\npositive cultures who also are\\ntested and receive drug\\nsusceptibility results\\n•\\nDecrease the TB case rate in\\nreporting areas\\n•\\nAt least 90% of core RVCT data\\nare complete.', '•\\nCompletion of therapy\\nrates\\n•\\nPercent of cultured\\nconfirmed drug cases with\\nsusceptibility results\\n•\\nTB case rate\\n•\\nCompleteness of RVCT\\nreporting']]\n",
            "[[['Race/Ethnicity – Year 2002', None, None, None, None, None], ['', 'State A', None, 'State B', None, ''], ['', 'No.\\nCases', 'Rate', 'No.\\nCases', 'Rate', 'US\\nRate**'], ['Hispanic', '2', '2', '16', '23', '10'], ['Black, Non-Hispanic (NH)', '1', '4', '16', '5', '13'], ['Asian, Pacific Islander, Native\\nHawaiian, NH', '137', '22', '14', '39', '28'], ['White, NH', '6', '2', '100', '3', '2'], ['Other', '2', '', '0', '', ''], ['Total', '148', '11.9', '146', '3.6', '5.2'], ['* Rate per 100,000', None, None, '', '', '']]]\n",
            "Очищенная таблица: [['Race/Ethnicity – Year 2002'], ['State A', 'State B'], ['No.\\nCases', 'Rate', 'No.\\nCases', 'Rate', 'US\\nRate**'], ['Hispanic', '2', '2', '16', '23', '10'], ['Black, Non-Hispanic (NH)', '1', '4', '16', '5', '13'], ['Asian, Pacific Islander, Native\\nHawaiian, NH', '137', '22', '14', '39', '28'], ['White, NH', '6', '2', '100', '3', '2'], ['Other', '2', '0'], ['Total', '148', '11.9', '146', '3.6', '5.2'], ['* Rate per 100,000']]\n",
            "[[['95'], ['99'], ['95'], ['99'], ['99'], ['99'], ['']]]\n",
            "Очищенная таблица: [['95'], ['99'], ['95'], ['99'], ['99'], ['99']]\n",
            "[[['', 'Uncorrected', None, 'Corrected*', None], ['Race', 'N', 'Rate/100,000', 'N', 'Rate/100,000'], ['Asian', '3,222', '26.7', '3,235', '26.9'], ['Native Hawaiian\\nand Other Pacific\\nIslander', '103', '25.9', '66', '16.6']]]\n",
            "Очищенная таблица: [['Uncorrected', 'Corrected*'], ['Race', 'N', 'Rate/100,000', 'N', 'Rate/100,000'], ['Asian', '3,222', '26.7', '3,235', '26.9'], ['Native Hawaiian\\nand Other Pacific\\nIslander', '103', '25.9', '66', '16.6']]\n",
            "Обработка: 25oof5wzsj4m6jg3bpydo56gybr65wet_20241213_124515.pdf\n",
            "[[['', '', None, None, None, None, None, None], [None, None, '', None, None, '', None, None], ['', None, None, '', '', None, '', ''], [None, None, None, None, '', None, None, None]], [[''], ['']], [[''], ['']], [[''], ['']]]\n",
            "[[[None, None, None, None, None, '', None, None], [None, None, None, None, None, None, '', None], [None, None, None, None, '', None, None, None], [None, None, None, None, None, None, None, ''], [None, None, '', None, None, None, None, None], ['', None, '', '', '', '', None, ''], [None, None, '', None, '', None, None, None], [None, '', None, None, None, None, None, None]], [['', None], [None, '']], [[None, ''], ['', '']]]\n",
            "[[[None, None, None, None, None, '', None, None], [None, None, None, None, None, None, '', None], [None, None, None, None, '', None, None, None], [None, None, None, None, None, None, None, ''], [None, None, '', None, None, None, None, None], ['', None, '', '', '', '', None, ''], [None, None, '', None, '', None, None, None], [None, '', None, None, None, None, None, None]], [['', None], [None, '']], [[None, ''], ['', '']]]\n",
            "[[[None, None, None, None, None, '', None, None], [None, None, None, None, None, None, '', None], [None, None, None, None, '', None, None, None], [None, None, None, None, None, None, None, ''], [None, None, '', None, None, None, None, None], ['', None, '', '', '', '', None, ''], [None, None, '', None, '', None, None, None], [None, '', None, None, None, None, None, None]], [['', None], [None, '']], [[None, ''], ['', '']]]\n",
            "[[['', '', None, None, None, None, None, None], [None, None, '', None, None, '', None, None], ['', None, None, '', '', None, '', ''], [None, None, None, None, '', None, None, None]], [[''], ['']], [[''], ['']], [[''], ['']]]\n",
            "[[[None, None, None, None, None, '', None, None], [None, None, None, None, None, None, '', None], [None, None, None, None, '', None, None, None], [None, None, None, None, None, None, None, ''], [None, None, '', None, None, None, None, None], ['', None, '', '', '', '', None, ''], [None, None, '', None, '', None, None, None], [None, '', None, None, None, None, None, None]], [['', None], [None, '']], [[None, ''], ['', '']]]\n",
            "[[[None, None, None, None, None, '', None, None], [None, None, None, None, None, None, '', None], [None, None, None, None, '', None, None, None], [None, None, None, None, None, None, None, ''], [None, None, '', None, None, None, None, None], ['', None, '', '', '', '', None, ''], [None, None, '', None, '', None, None, None], [None, '', None, None, None, None, None, None]], [['', None], [None, '']], [[None, ''], ['', '']]]\n",
            "[[[None, None, None, None, None, '', None, None], [None, None, None, None, None, None, '', None], [None, None, None, None, '', None, None, None], [None, None, None, None, None, None, None, ''], [None, None, '', None, None, None, None, None], ['', None, '', '', '', '', None, ''], [None, None, '', None, '', None, None, None], [None, '', None, None, None, None, None, None]], [['', None], [None, '']], [[None, ''], ['', '']]]\n",
            "[[[None, None, None, None, None, '', None, None], [None, None, None, None, None, None, '', None], [None, None, None, None, '', None, None, None], [None, None, None, None, None, None, None, ''], [None, None, '', None, None, None, None, None], ['', None, '', '', '', '', None, ''], [None, None, '', None, '', None, None, None], [None, '', None, None, None, None, None, None]], [['', None], [None, '']], [[None, ''], ['', '']]]\n",
            "[[[None, None, None, None, None, '', None, None], [None, None, None, None, None, None, '', None], [None, None, None, None, '', None, None, None], [None, None, None, None, None, None, None, ''], [None, None, '', None, None, None, None, None], ['', None, '', '', '', '', None, ''], [None, None, '', None, '', None, None, None], [None, '', None, None, None, None, None, None]], [['', None], [None, '']], [[None, ''], ['', '']]]\n",
            "[[[None, None, None, None, None, '', None, None], [None, None, None, None, None, None, '', None], [None, None, None, None, '', None, None, None], [None, None, None, None, None, None, None, ''], [None, None, '', None, None, None, None, None], ['', None, '', '', '', '', None, ''], [None, None, '', None, '', None, None, None], [None, '', None, None, None, None, None, None]], [['', None], [None, '']], [['1.', 'Electrical, Wiring Methods'], ['2.', 'Hazard Communication'], ['3.', 'Electrical, Systems Design'], ['4.', 'Means of Egress'], ['5.', 'Bloodborne Pathogens'], ['6.', 'Portable Fire Extinguishers'], ['7.', 'Walking-Working Surfaces'], ['8.', 'Respiratory Protection'], ['9.', 'Machine Guarding'], ['10.', 'Guarding Floor & Wall Openings'], ['', '']], [[None, ''], ['', '']]]\n",
            "Очищенная таблица: [['1.', 'Electrical, Wiring Methods'], ['2.', 'Hazard Communication'], ['3.', 'Electrical, Systems Design'], ['4.', 'Means of Egress'], ['5.', 'Bloodborne Pathogens'], ['6.', 'Portable Fire Extinguishers'], ['7.', 'Walking-Working Surfaces'], ['8.', 'Respiratory Protection'], ['9.', 'Machine Guarding'], ['10.', 'Guarding Floor & Wall Openings']]\n",
            "[[['', '', None, None, None, None, None, None], [None, None, '', None, None, '', None, None], ['', None, None, '', '', None, '', ''], [None, None, None, None, '', None, None, None]], [[''], ['']], [[''], ['']], [[''], ['']]]\n",
            "[[[None, None, None, None, None, '', None, None], [None, None, None, None, None, None, '', None], [None, None, None, None, '', None, None, None], [None, None, None, None, None, None, None, ''], [None, None, '', None, None, None, None, None], ['', None, '', '', '', '', None, ''], [None, None, '', None, '', None, None, None], [None, '', None, None, None, None, None, None]], [['', None], [None, '']], [[None, ''], ['', '']]]\n",
            "[[[None, None, None, None, None, '', None, None], [None, None, None, None, None, None, '', None], [None, None, None, None, '', None, None, None], [None, None, None, None, None, None, None, ''], [None, None, '', None, None, None, None, None], ['', None, '', '', '', '', None, ''], [None, None, '', None, '', None, None, None], [None, '', None, None, None, None, None, None]], [['', None], [None, '']], [[None, ''], ['', '']]]\n",
            "[[['', '', None, None, None, None, None, None], [None, None, '', None, None, '', None, None], ['', None, None, '', '', None, '', ''], [None, None, None, None, '', None, None, None]], [[''], ['']], [[''], ['']], [[''], ['']]]\n",
            "Обработка: 2ioecb7xki56sdsrdxhxtaudgcmytvi7_20241213_124515.pdf\n",
            "Обработка: businesspolicy_20241213_124515.pdf\n",
            "Обработка: 2c45nwo7fmtdrtbbr6fa442ozksclgzz_20241213_124515.pdf\n",
            "[[['Montana\\nStandard\\ns', 'Reporting Categories', 'Multiple\\nChoice\\nItems', 'Constructed\\nResponse\\nItems'], ['1, 5, & 6*', 'Scientific Investigation\\nImpact on Society\\nHistorical Development', '15-19', '1 or 0'], ['2', 'Physical Science', '10-14', '1 or 0'], ['3', 'Life Science', '10-14', '1 or 0'], ['Standards\\n4', '5 and 6 are assessed by 5 Mu\\nEarth and Space Science', 'ltiple Choice\\n10-14', 'Items\\n1 or 0']]]\n",
            "Очищенная таблица: [['Montana\\nStandard\\ns', 'Reporting Categories', 'Multiple\\nChoice\\nItems', 'Constructed\\nResponse\\nItems'], ['1, 5, & 6*', 'Scientific Investigation\\nImpact on Society\\nHistorical Development', '15-19', '1 or 0'], ['2', 'Physical Science', '10-14', '1 or 0'], ['3', 'Life Science', '10-14', '1 or 0'], ['Standards\\n4', '5 and 6 are assessed by 5 Mu\\nEarth and Space Science', 'ltiple Choice\\n10-14', 'Items\\n1 or 0']]\n",
            "Обработка: 2426hg2rxrznrhx3yhordf5c57ppaahe_1_1_20241213_124515.pdf\n",
            "[[['', '']], [['', '']], [['', '']]]\n",
            "Обработка: 2426hg2rxrznrhx3yhordf5c57ppaahe_1_20241213_124515.pdf\n",
            "[[['', '']], [['', '']], [['', '']]]\n",
            "Обработка: 2nyyoqn3ukywmkxdamtwp4znmgbbtlca_20241213_124515.pdf\n",
            "[[['GRANULARITY', 'DEFINITION', 'SCRM REFERENCE\\nMODEL FOCUS?'], ['Federated Component', 'A set of cooperating system-level\\ncomponents federated to resolve the\\nbusiness need of multiple end users often\\nbelonging to different organizations.', 'Yes'], ['Business Component\\nSystem', 'A set of cooperating business components\\nassembled together to deliver a solution to a\\nbusiness problem.', 'Yes'], ['Business Component', 'Represents the implementation of an\\nautonomous business concept or business\\nprocess. It consists of all the technology\\nelements (i.e., software, hardware, data)\\nnecessary to express, implement, and deploy\\na given business concept as an autonomous,\\nreusable element of a large information\\nsystem. It is a unifying concept across the\\ndevelopment lifecycle and the distribution\\ntiers.', 'Yes'], ['Distributed Component', 'The lowest level of component granularity. It\\nis a software element that can be called at\\nrun-time with a clear interface and a clear\\nseparation between interface and\\nimplementation. It is autonomously\\ndeployable.', 'Yes'], ['Language Class', 'A class in an object-oriented programming\\nlanguage to build distributed components.\\nThis is NOT considered an SCRM\\ncomponent.', 'No']]]\n",
            "Очищенная таблица: [['GRANULARITY', 'DEFINITION', 'SCRM REFERENCE\\nMODEL FOCUS?'], ['Federated Component', 'A set of cooperating system-level\\ncomponents federated to resolve the\\nbusiness need of multiple end users often\\nbelonging to different organizations.', 'Yes'], ['Business Component\\nSystem', 'A set of cooperating business components\\nassembled together to deliver a solution to a\\nbusiness problem.', 'Yes'], ['Business Component', 'Represents the implementation of an\\nautonomous business concept or business\\nprocess. It consists of all the technology\\nelements (i.e., software, hardware, data)\\nnecessary to express, implement, and deploy\\na given business concept as an autonomous,\\nreusable element of a large information\\nsystem. It is a unifying concept across the\\ndevelopment lifecycle and the distribution\\ntiers.', 'Yes'], ['Distributed Component', 'The lowest level of component granularity. It\\nis a software element that can be called at\\nrun-time with a clear interface and a clear\\nseparation between interface and\\nimplementation. It is autonomously\\ndeployable.', 'Yes'], ['Language Class', 'A class in an object-oriented programming\\nlanguage to build distributed components.\\nThis is NOT considered an SCRM\\ncomponent.', 'No']]\n",
            "[[['Name', 'Origin', 'Destination (s)'], ['BlueOxide’s XML Collaborator', 'XML Web Services WG', 'Business Gateway, IC MWG,\\netc.'], ['CollabNet’s Source Cast', 'XML Web Services WG', 'DISA, US PTMO, Business\\nGateway, etc.'], ['Software AG’s Tamino Native\\nXML Server', 'XML Web Services WG', 'EPA, Global, Business\\nGateway, etc.'], ['BAH’s “Web Services and\\nRegistries”', 'XML Web Services WG', 'XML.Gov Registry Team'], ['GEAF', 'XML Web Services WG', 'Governance SC, etc.'], ['Open Source for eGov\\nReference Architecture', 'GSA-Emerging Components', 'Componenttechnology.org'], ['WorkForce Connections –\\nShareable Content Object\\nReference Model', 'Department of Labor and\\nDevIS – Emerging\\nComponents', 'Componenttechnology.org'], ['Components (Reusable Asset\\nSpecification-OMG)', 'Flashline/Noblestar –\\nEmerging Components', 'Componenttechnology.org']]]\n",
            "Очищенная таблица: [['Name', 'Origin', 'Destination (s)'], ['BlueOxide’s XML Collaborator', 'XML Web Services WG', 'Business Gateway, IC MWG,\\netc.'], ['CollabNet’s Source Cast', 'XML Web Services WG', 'DISA, US PTMO, Business\\nGateway, etc.'], ['Software AG’s Tamino Native\\nXML Server', 'XML Web Services WG', 'EPA, Global, Business\\nGateway, etc.'], ['BAH’s “Web Services and\\nRegistries”', 'XML Web Services WG', 'XML.Gov Registry Team'], ['GEAF', 'XML Web Services WG', 'Governance SC, etc.'], ['Open Source for eGov\\nReference Architecture', 'GSA-Emerging Components', 'Componenttechnology.org'], ['WorkForce Connections –\\nShareable Content Object\\nReference Model', 'Department of Labor and\\nDevIS – Emerging\\nComponents', 'Componenttechnology.org'], ['Components (Reusable Asset\\nSpecification-OMG)', 'Flashline/Noblestar –\\nEmerging Components', 'Componenttechnology.org']]\n",
            "                                               Шрифт  Количество картинок  \\\n",
            "0                     Arial, Tahoma,Bold, Arial,Bold                    9   \n",
            "1  Arial,BoldItalic, Arial, Arial,Bold, Comic San...                   42   \n",
            "2  Tahoma, Wingdings, Tahoma,Bold, Times New Roma...                    0   \n",
            "3                  Comic Sans MS, Comic Sans MS,Bold                    6   \n",
            "4  Arial Narrow,Bold, Century Gothic,Bold, Centur...                    0   \n",
            "5  Arial, Georgia, Georgia,Bold, Wingdings, Arial...                   11   \n",
            "6              Times New Roman, Times New Roman,Bold                    0   \n",
            "7              Times New Roman, Times New Roman,Bold                    0   \n",
            "8                                  Arial, Arial,Bold                    1   \n",
            "\n",
            "   Количество таблиц        Дизайн  \\\n",
            "0                  0  Не определён   \n",
            "1                  4  Не определён   \n",
            "2                  1  Не определён   \n",
            "3                  0  Не определён   \n",
            "4                  0  Не определён   \n",
            "5                  1  Не определён   \n",
            "6                  0  Не определён   \n",
            "7                  0  Не определён   \n",
            "8                  2  Не определён   \n",
            "\n",
            "                                            PDF файл  \n",
            "0  27crlc3ddvohbj27uzshyxro3ob4bhiy_20241213_1245...  \n",
            "1  2l5jfjnvcbuld4v5ufnmpukwm3byssyc_1_20241213_12...  \n",
            "2  25oof5wzsj4m6jg3bpydo56gybr65wet_20241213_1245...  \n",
            "3  2ioecb7xki56sdsrdxhxtaudgcmytvi7_20241213_1245...  \n",
            "4                 businesspolicy_20241213_124515.pdf  \n",
            "5  2c45nwo7fmtdrtbbr6fa442ozksclgzz_20241213_1245...  \n",
            "6  2426hg2rxrznrhx3yhordf5c57ppaahe_1_1_20241213_...  \n",
            "7  2426hg2rxrznrhx3yhordf5c57ppaahe_1_20241213_12...  \n",
            "8  2nyyoqn3ukywmkxdamtwp4znmgbbtlca_20241213_1245...  \n"
          ]
        }
      ],
      "source": [
        "import fitz  # PyMuPDF\n",
        "import pdfplumber\n",
        "import os\n",
        "import pandas as pd\n",
        "\n",
        "\n",
        "def clean_table(table):\n",
        "    # Очищаем таблицу от строк, которые состоят только из пустых значений\n",
        "    cleaned_table = []\n",
        "    for row in table:\n",
        "        # Убираем пустые значения в строках\n",
        "        cleaned_row = [value for value in row if value not in (None, '')]\n",
        "        # Добавляем строку в таблицу, если она не пустая\n",
        "        if cleaned_row:\n",
        "            cleaned_table.append(cleaned_row)\n",
        "    return cleaned_table\n",
        "\n",
        "def extract_pdf_data(pdf_path):\n",
        "    # Открытие PDF с помощью PyMuPDF для извлечения шрифтов и изображений\n",
        "    doc = fitz.open(pdf_path)\n",
        "    total_images = 0\n",
        "    fonts = set()\n",
        "\n",
        "    # Перебор всех страниц в документе для анализа шрифтов и изображений\n",
        "    for page_num in range(doc.page_count):\n",
        "        page = doc.load_page(page_num)\n",
        "\n",
        "        # Подсчёт изображений на странице\n",
        "        images = page.get_images(full=True)\n",
        "        total_images += len(images)\n",
        "\n",
        "        # Анализ шрифтов\n",
        "        for text_instance in page.get_text(\"dict\")[\"blocks\"]:\n",
        "            if text_instance['type'] == 0:  # Это текстовый блок\n",
        "                for line in text_instance[\"lines\"]:\n",
        "                    for span in line[\"spans\"]:\n",
        "                        fonts.add(span['font'])\n",
        "\n",
        "    # Используем pdfplumber для поиска таблиц\n",
        "    total_tables = 0\n",
        "    with pdfplumber.open(pdf_path) as pdf:\n",
        "      for page in pdf.pages:\n",
        "          # Извлечение таблиц на странице\n",
        "          tables = page.extract_tables()\n",
        "          if tables:\n",
        "              print(tables)\n",
        "              for table in tables:\n",
        "                  if table:\n",
        "                      cleaned_table = clean_table(table)\n",
        "                      if cleaned_table:\n",
        "                          total_tables += 1\n",
        "\n",
        "    # Возвращаем собранную информацию\n",
        "    data = {\n",
        "        \"font\": ', '.join(fonts),\n",
        "        \"images_count\": total_images,\n",
        "        \"tables_count\": total_tables,\n",
        "        \"Design\": \"Не определён\",  # Можно добавить более сложный анализ дизайна\n",
        "    }\n",
        "    return data\n",
        "\n",
        "def process_pdf_files(directory_path):\n",
        "    # Список для хранения данных\n",
        "    all_data = []\n",
        "\n",
        "    # Получаем все PDF файлы из папки\n",
        "    for filename in os.listdir(directory_path):\n",
        "        if filename.endswith(\".pdf\"):\n",
        "            pdf_path = os.path.join(directory_path, filename)\n",
        "            print(f\"Обработка: {filename}\")\n",
        "            data = extract_pdf_data(pdf_path)\n",
        "            # Добавляем имя файла в результат\n",
        "            data[\"PDF файл\"] = filename\n",
        "            all_data.append(data)\n",
        "\n",
        "    # Создание DataFrame\n",
        "    df = pd.DataFrame(all_data)\n",
        "    return df\n",
        "\n",
        "# Пример использования\n",
        "directory_path = raw_path  # Папка с вашими PDF файлами\n",
        "df = process_pdf_files(directory_path)\n",
        "\n",
        "# Вывод таблицы\n",
        "print(df)\n",
        "\n",
        "# Сохранение таблицы в CSV\n",
        "df.to_csv(\"pdf_analysis_output_combined.csv\", index=False)\n"
      ]
    },
    {
      "cell_type": "code",
      "execution_count": null,
      "metadata": {
        "id": "nZrnQJ-gcoDM"
      },
      "outputs": [],
      "source": [
        "!pip install pdf2image openai\n"
      ]
    },
    {
      "cell_type": "code",
      "execution_count": null,
      "metadata": {
        "id": "Use5cMwQdiM0"
      },
      "outputs": [],
      "source": [
        "!apt-get install -y poppler-utils\n"
      ]
    },
    {
      "cell_type": "markdown",
      "metadata": {
        "id": "E6_dytJcoIwm"
      },
      "source": [
        "## Использование LLM c vision - gpt-4o-mini для разметки\n",
        "\n",
        "\n",
        "\n",
        "*   Стиля текста (научный, популярный и т.д.)\n",
        "*   Стиля презентации (формальная, монохромная и т.д.)\n",
        "\n",
        "Проверка работы API\n",
        "\n",
        "\n",
        "\n",
        "\n"
      ]
    },
    {
      "cell_type": "code",
      "execution_count": null,
      "metadata": {
        "id": "gHGGtyBFSdiI"
      },
      "outputs": [],
      "source": [
        "from pdf2image import convert_from_path\n",
        "import base64\n",
        "import openai\n",
        "\n",
        "# Настройка OpenAI API\n",
        "openai.api_key = \"xxxxx\"\n",
        "\n",
        "# Кодирование в BASE64\n",
        "def encode_image(image_path):\n",
        "  with open(image_path, \"rb\") as image_file:\n",
        "    return base64.b64encode(image_file.read()).decode('utf-8')\n",
        "\n",
        "# Функция для конвертации PDF в изображения\n",
        "def pdf_to_images(pdf_path):\n",
        "    images = convert_from_path(pdf_path)\n",
        "    return images\n",
        "\n",
        "# Преобразование PDF в изображения\n",
        "pdf_path = \"/content/raw_data/2426hg2rxrznrhx3yhordf5c57ppaahe_1_1_20241213_124515.pdf\"\n",
        "images = pdf_to_images(pdf_path)\n",
        "\n",
        "# Сохраняем изображения в виде файлов\n",
        "image_paths = []\n",
        "for i, image in enumerate(images):\n",
        "    image_path = f\"page_{i+1}.png\"\n",
        "    image.save(image_path, 'PNG')\n",
        "    image_paths.append(image_path)\n",
        "\n",
        "base64_image = encode_image(image_path)\n"
      ]
    },
    {
      "cell_type": "code",
      "execution_count": null,
      "metadata": {
        "colab": {
          "base_uri": "https://localhost:8080/"
        },
        "id": "lzrPuvggcRYx",
        "outputId": "b9352548-a90e-4cfe-8691-084f4d5fe585"
      },
      "outputs": [
        {
          "name": "stdout",
          "output_type": "stream",
          "text": [
            "Choice(finish_reason='stop', index=0, logprobs=None, message=ChatCompletionMessage(content='The image presents a diagram titled \"New Jersey History of Oxygenated Fuel.\" It illustrates different percentages related to the use of oxygenated fuel in New Jersey over various time periods, focusing on regulations and mandates. Key points include:\\n\\n- **New Jersey CO SIP Rule:** Shows a range of 1.7% to 2.7% for some periods.\\n- **USEPA Rule or Non-mandated Usage:** Indicates a range of 0.8% to 1.0% for some fuel providers in the 1980s, and mentions a percentage of 2.0% for RFG I in 1995.\\n- **Comparative Differences:** Highlights a difference of 0.7% in certain usages.\\n\\nThe timeline spans from the 1980s to 1995, marking changes in regulations over the years.', refusal='', role='assistant', audio=None, function_call=None, tool_calls=None))\n"
          ]
        }
      ],
      "source": [
        "client = OpenAI(\n",
        "    api_key=\"sk-or-vv-0dd695d9a77bd9c228d2b949cc6a53e17b48bc2f3696674f21f4eaaffb3adbf7\", # ваш ключ в VseGPT после регистрации\n",
        "    base_url=\"https://api.vsegpt.ru/v1\",\n",
        ")\n",
        "\n",
        "# Path to your image\n",
        "image_path = \"path_to_your_image.jpg\"\n",
        "\n",
        "# Getting the base64 string\n",
        "\n",
        "response = client.chat.completions.create(\n",
        "  model=\"gpt-4o-mini\",\n",
        "  messages=[\n",
        "    {\n",
        "      \"role\": \"user\",\n",
        "      \"content\": [\n",
        "        {\n",
        "          \"type\": \"text\",\n",
        "          \"text\": \"What is in this image?\",\n",
        "        },\n",
        "        {\n",
        "          \"type\": \"image_url\",\n",
        "          \"image_url\": {\n",
        "            \"url\":  f\"data:image/jpeg;base64,{base64_image}\"\n",
        "          },\n",
        "        },\n",
        "      ],\n",
        "    }\n",
        "  ],\n",
        ")\n",
        "\n",
        "print(response.choices[0])\n"
      ]
    },
    {
      "cell_type": "code",
      "execution_count": null,
      "metadata": {},
      "outputs": [],
      "source": [
        "%pip install python-dotenv"
      ]
    },
    {
      "cell_type": "markdown",
      "metadata": {
        "id": "zQmllIBYo82c"
      },
      "source": [
        "## Скрипт разметки данных"
      ]
    },
    {
      "cell_type": "code",
      "execution_count": null,
      "metadata": {
        "colab": {
          "base_uri": "https://localhost:8080/",
          "height": 391
        },
        "id": "qV_KywIBkUBQ",
        "outputId": "d6a8d3fd-19e0-439a-a618-65685a218d79"
      },
      "outputs": [
        {
          "ename": "BadRequestError",
          "evalue": "Error code: 400 - {'error': {'message': 'Potentially out of budget: 237285->700, expected price 4.8017, but you have only 1.107680 on account. Please, add some money to balance to proceed: https://vsegpt.ru/User/Money', 'code': 400}}",
          "output_type": "error",
          "traceback": [
            "\u001b[0;31m---------------------------------------------------------------------------\u001b[0m",
            "\u001b[0;31mBadRequestError\u001b[0m                           Traceback (most recent call last)",
            "\u001b[0;32m<ipython-input-21-b2f65f8a699b>\u001b[0m in \u001b[0;36m<cell line: 42>\u001b[0;34m()\u001b[0m\n\u001b[1;32m     44\u001b[0m \u001b[0;34m\u001b[0m\u001b[0m\n\u001b[1;32m     45\u001b[0m     \u001b[0;31m# Запрос к OpenAI для анализа изображения\u001b[0m\u001b[0;34m\u001b[0m\u001b[0;34m\u001b[0m\u001b[0m\n\u001b[0;32m---> 46\u001b[0;31m     response = client.chat.completions.create(\n\u001b[0m\u001b[1;32m     47\u001b[0m         \u001b[0mmodel\u001b[0m\u001b[0;34m=\u001b[0m\u001b[0;34m\"gpt-4o-mini\"\u001b[0m\u001b[0;34m,\u001b[0m\u001b[0;34m\u001b[0m\u001b[0;34m\u001b[0m\u001b[0m\n\u001b[1;32m     48\u001b[0m         messages=[\n",
            "\u001b[0;32m/usr/local/lib/python3.10/dist-packages/openai/_utils/_utils.py\u001b[0m in \u001b[0;36mwrapper\u001b[0;34m(*args, **kwargs)\u001b[0m\n\u001b[1;32m    273\u001b[0m                         \u001b[0mmsg\u001b[0m \u001b[0;34m=\u001b[0m \u001b[0;34mf\"Missing required argument: {quote(missing[0])}\"\u001b[0m\u001b[0;34m\u001b[0m\u001b[0;34m\u001b[0m\u001b[0m\n\u001b[1;32m    274\u001b[0m                 \u001b[0;32mraise\u001b[0m \u001b[0mTypeError\u001b[0m\u001b[0;34m(\u001b[0m\u001b[0mmsg\u001b[0m\u001b[0;34m)\u001b[0m\u001b[0;34m\u001b[0m\u001b[0;34m\u001b[0m\u001b[0m\n\u001b[0;32m--> 275\u001b[0;31m             \u001b[0;32mreturn\u001b[0m \u001b[0mfunc\u001b[0m\u001b[0;34m(\u001b[0m\u001b[0;34m*\u001b[0m\u001b[0margs\u001b[0m\u001b[0;34m,\u001b[0m \u001b[0;34m**\u001b[0m\u001b[0mkwargs\u001b[0m\u001b[0;34m)\u001b[0m\u001b[0;34m\u001b[0m\u001b[0;34m\u001b[0m\u001b[0m\n\u001b[0m\u001b[1;32m    276\u001b[0m \u001b[0;34m\u001b[0m\u001b[0m\n\u001b[1;32m    277\u001b[0m         \u001b[0;32mreturn\u001b[0m \u001b[0mwrapper\u001b[0m  \u001b[0;31m# type: ignore\u001b[0m\u001b[0;34m\u001b[0m\u001b[0;34m\u001b[0m\u001b[0m\n",
            "\u001b[0;32m/usr/local/lib/python3.10/dist-packages/openai/resources/chat/completions.py\u001b[0m in \u001b[0;36mcreate\u001b[0;34m(self, messages, model, audio, frequency_penalty, function_call, functions, logit_bias, logprobs, max_completion_tokens, max_tokens, metadata, modalities, n, parallel_tool_calls, prediction, presence_penalty, response_format, seed, service_tier, stop, store, stream, stream_options, temperature, tool_choice, tools, top_logprobs, top_p, user, extra_headers, extra_query, extra_body, timeout)\u001b[0m\n\u001b[1;32m    827\u001b[0m     ) -> ChatCompletion | Stream[ChatCompletionChunk]:\n\u001b[1;32m    828\u001b[0m         \u001b[0mvalidate_response_format\u001b[0m\u001b[0;34m(\u001b[0m\u001b[0mresponse_format\u001b[0m\u001b[0;34m)\u001b[0m\u001b[0;34m\u001b[0m\u001b[0;34m\u001b[0m\u001b[0m\n\u001b[0;32m--> 829\u001b[0;31m         return self._post(\n\u001b[0m\u001b[1;32m    830\u001b[0m             \u001b[0;34m\"/chat/completions\"\u001b[0m\u001b[0;34m,\u001b[0m\u001b[0;34m\u001b[0m\u001b[0;34m\u001b[0m\u001b[0m\n\u001b[1;32m    831\u001b[0m             body=maybe_transform(\n",
            "\u001b[0;32m/usr/local/lib/python3.10/dist-packages/openai/_base_client.py\u001b[0m in \u001b[0;36mpost\u001b[0;34m(self, path, cast_to, body, options, files, stream, stream_cls)\u001b[0m\n\u001b[1;32m   1278\u001b[0m             \u001b[0mmethod\u001b[0m\u001b[0;34m=\u001b[0m\u001b[0;34m\"post\"\u001b[0m\u001b[0;34m,\u001b[0m \u001b[0murl\u001b[0m\u001b[0;34m=\u001b[0m\u001b[0mpath\u001b[0m\u001b[0;34m,\u001b[0m \u001b[0mjson_data\u001b[0m\u001b[0;34m=\u001b[0m\u001b[0mbody\u001b[0m\u001b[0;34m,\u001b[0m \u001b[0mfiles\u001b[0m\u001b[0;34m=\u001b[0m\u001b[0mto_httpx_files\u001b[0m\u001b[0;34m(\u001b[0m\u001b[0mfiles\u001b[0m\u001b[0;34m)\u001b[0m\u001b[0;34m,\u001b[0m \u001b[0;34m**\u001b[0m\u001b[0moptions\u001b[0m\u001b[0;34m\u001b[0m\u001b[0;34m\u001b[0m\u001b[0m\n\u001b[1;32m   1279\u001b[0m         )\n\u001b[0;32m-> 1280\u001b[0;31m         \u001b[0;32mreturn\u001b[0m \u001b[0mcast\u001b[0m\u001b[0;34m(\u001b[0m\u001b[0mResponseT\u001b[0m\u001b[0;34m,\u001b[0m \u001b[0mself\u001b[0m\u001b[0;34m.\u001b[0m\u001b[0mrequest\u001b[0m\u001b[0;34m(\u001b[0m\u001b[0mcast_to\u001b[0m\u001b[0;34m,\u001b[0m \u001b[0mopts\u001b[0m\u001b[0;34m,\u001b[0m \u001b[0mstream\u001b[0m\u001b[0;34m=\u001b[0m\u001b[0mstream\u001b[0m\u001b[0;34m,\u001b[0m \u001b[0mstream_cls\u001b[0m\u001b[0;34m=\u001b[0m\u001b[0mstream_cls\u001b[0m\u001b[0;34m)\u001b[0m\u001b[0;34m)\u001b[0m\u001b[0;34m\u001b[0m\u001b[0;34m\u001b[0m\u001b[0m\n\u001b[0m\u001b[1;32m   1281\u001b[0m \u001b[0;34m\u001b[0m\u001b[0m\n\u001b[1;32m   1282\u001b[0m     def patch(\n",
            "\u001b[0;32m/usr/local/lib/python3.10/dist-packages/openai/_base_client.py\u001b[0m in \u001b[0;36mrequest\u001b[0;34m(self, cast_to, options, remaining_retries, stream, stream_cls)\u001b[0m\n\u001b[1;32m    955\u001b[0m             \u001b[0mretries_taken\u001b[0m \u001b[0;34m=\u001b[0m \u001b[0;36m0\u001b[0m\u001b[0;34m\u001b[0m\u001b[0;34m\u001b[0m\u001b[0m\n\u001b[1;32m    956\u001b[0m \u001b[0;34m\u001b[0m\u001b[0m\n\u001b[0;32m--> 957\u001b[0;31m         return self._request(\n\u001b[0m\u001b[1;32m    958\u001b[0m             \u001b[0mcast_to\u001b[0m\u001b[0;34m=\u001b[0m\u001b[0mcast_to\u001b[0m\u001b[0;34m,\u001b[0m\u001b[0;34m\u001b[0m\u001b[0;34m\u001b[0m\u001b[0m\n\u001b[1;32m    959\u001b[0m             \u001b[0moptions\u001b[0m\u001b[0;34m=\u001b[0m\u001b[0moptions\u001b[0m\u001b[0;34m,\u001b[0m\u001b[0;34m\u001b[0m\u001b[0;34m\u001b[0m\u001b[0m\n",
            "\u001b[0;32m/usr/local/lib/python3.10/dist-packages/openai/_base_client.py\u001b[0m in \u001b[0;36m_request\u001b[0;34m(self, cast_to, options, retries_taken, stream, stream_cls)\u001b[0m\n\u001b[1;32m   1059\u001b[0m \u001b[0;34m\u001b[0m\u001b[0m\n\u001b[1;32m   1060\u001b[0m             \u001b[0mlog\u001b[0m\u001b[0;34m.\u001b[0m\u001b[0mdebug\u001b[0m\u001b[0;34m(\u001b[0m\u001b[0;34m\"Re-raising status error\"\u001b[0m\u001b[0;34m)\u001b[0m\u001b[0;34m\u001b[0m\u001b[0;34m\u001b[0m\u001b[0m\n\u001b[0;32m-> 1061\u001b[0;31m             \u001b[0;32mraise\u001b[0m \u001b[0mself\u001b[0m\u001b[0;34m.\u001b[0m\u001b[0m_make_status_error_from_response\u001b[0m\u001b[0;34m(\u001b[0m\u001b[0merr\u001b[0m\u001b[0;34m.\u001b[0m\u001b[0mresponse\u001b[0m\u001b[0;34m)\u001b[0m \u001b[0;32mfrom\u001b[0m \u001b[0;32mNone\u001b[0m\u001b[0;34m\u001b[0m\u001b[0;34m\u001b[0m\u001b[0m\n\u001b[0m\u001b[1;32m   1062\u001b[0m \u001b[0;34m\u001b[0m\u001b[0m\n\u001b[1;32m   1063\u001b[0m         return self._process_response(\n",
            "\u001b[0;31mBadRequestError\u001b[0m: Error code: 400 - {'error': {'message': 'Potentially out of budget: 237285->700, expected price 4.8017, but you have only 1.107680 on account. Please, add some money to balance to proceed: https://vsegpt.ru/User/Money', 'code': 400}}"
          ]
        }
      ],
      "source": [
        "import os\n",
        "from dotenv import load_dotenv\n",
        "\n",
        "load_dotenv()\n",
        "\n",
        "# Настройка OpenAI API\n",
        "openai.api_key = os.getenv('OPENAI_KEY')\n",
        "\n",
        "# Функция для кодирования изображения в base64\n",
        "def encode_image(image_path):\n",
        "    with open(image_path, \"rb\") as image_file:\n",
        "        return base64.b64encode(image_file.read()).decode('utf-8')\n",
        "\n",
        "# Функция для конвертации PDF в изображения\n",
        "def pdf_to_images(pdf_path):\n",
        "    images = convert_from_path(pdf_path, fmt='jpeg')  # Сохраняем изображения как JPEG\n",
        "    return images\n",
        "\n",
        "# Функция для обработки PDF файлов в директории\n",
        "def process_pdfs_in_directory(raw_path):\n",
        "    image_paths = []\n",
        "    # Получаем все файлы в директории\n",
        "    for filename in os.listdir(raw_path):\n",
        "        if filename.endswith(\".pdf\"):\n",
        "            pdf_path = os.path.join(raw_path, filename)\n",
        "            images = pdf_to_images(pdf_path)\n",
        "\n",
        "            # Сохраняем каждое изображение и получаем пути\n",
        "            for i, image in enumerate(images):\n",
        "                image_path = f\"{pdf_path}_page_{i+1}.jpg\"\n",
        "                image.save(image_path, 'JPEG')  # Сохраняем в JPEG\n",
        "                image_paths.append(image_path)\n",
        "    return image_paths\n",
        "\n",
        "# Директория с PDF файлами\n",
        "raw_path = \"/content/raw_data\"\n",
        "\n",
        "# Обработка всех PDF файлов в директории\n",
        "image_paths = process_pdfs_in_directory(raw_path)\n",
        "\n",
        "# Отправка изображений в OpenAI\n",
        "for image_path in image_paths:\n",
        "    base64_image = encode_image(image_path)\n",
        "\n",
        "    # Запрос к OpenAI для анализа изображения\n",
        "    response = client.chat.completions.create(\n",
        "        model=\"gpt-4o-mini\",\n",
        "        messages=[\n",
        "            {\n",
        "                \"role\": \"user\",\n",
        "                \"content\": [\n",
        "                    {\"type\": \"text\", \"text\": \"What is the style of this presentation (formal, scientific, etc.) and its design style in words?\"},\n",
        "                    {\n",
        "                        \"type\": \"image_url\",\n",
        "                        \"image_url\": f\"data:image/jpeg;base64,{base64_image}\"\n",
        "                    },\n",
        "                ]\n",
        "            }\n",
        "        ]\n",
        "    )\n",
        "\n",
        "    print(f\"Response for {image_path}: {response.choices[0].message['content']}\")\n"
      ]
    }
  ],
  "metadata": {
    "colab": {
      "provenance": []
    },
    "kernelspec": {
      "display_name": "Python 3",
      "name": "python3"
    },
    "language_info": {
      "name": "python"
    }
  },
  "nbformat": 4,
  "nbformat_minor": 0
}
