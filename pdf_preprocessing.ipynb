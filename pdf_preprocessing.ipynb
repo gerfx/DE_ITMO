{
  "nbformat": 4,
  "nbformat_minor": 0,
  "metadata": {
    "colab": {
      "provenance": []
    },
    "kernelspec": {
      "name": "python3",
      "display_name": "Python 3"
    },
    "language_info": {
      "name": "python"
    }
  },
  "cells": [
    {
      "cell_type": "code",
      "source": [
        "!pip install pymupdf reportlab"
      ],
      "metadata": {
        "colab": {
          "base_uri": "https://localhost:8080/"
        },
        "id": "lmBlIBsjBN3M",
        "outputId": "9126a28d-e784-4e5f-f0be-19674bc21901"
      },
      "execution_count": null,
      "outputs": [
        {
          "output_type": "stream",
          "name": "stdout",
          "text": [
            "Collecting pymupdf\n",
            "  Downloading pymupdf-1.25.0-cp39-abi3-manylinux2014_x86_64.manylinux_2_17_x86_64.whl.metadata (3.4 kB)\n",
            "Collecting reportlab\n",
            "  Downloading reportlab-4.2.5-py3-none-any.whl.metadata (1.5 kB)\n",
            "Requirement already satisfied: pillow>=9.0.0 in /usr/local/lib/python3.10/dist-packages (from reportlab) (11.0.0)\n",
            "Requirement already satisfied: chardet in /usr/local/lib/python3.10/dist-packages (from reportlab) (5.2.0)\n",
            "Downloading pymupdf-1.25.0-cp39-abi3-manylinux2014_x86_64.manylinux_2_17_x86_64.whl (20.0 MB)\n",
            "\u001b[2K   \u001b[90m━━━━━━━━━━━━━━━━━━━━━━━━━━━━━━━━━━━━━━━━\u001b[0m \u001b[32m20.0/20.0 MB\u001b[0m \u001b[31m48.9 MB/s\u001b[0m eta \u001b[36m0:00:00\u001b[0m\n",
            "\u001b[?25hDownloading reportlab-4.2.5-py3-none-any.whl (1.9 MB)\n",
            "\u001b[2K   \u001b[90m━━━━━━━━━━━━━━━━━━━━━━━━━━━━━━━━━━━━━━━━\u001b[0m \u001b[32m1.9/1.9 MB\u001b[0m \u001b[31m50.3 MB/s\u001b[0m eta \u001b[36m0:00:00\u001b[0m\n",
            "\u001b[?25hInstalling collected packages: reportlab, pymupdf\n",
            "Successfully installed pymupdf-1.25.0 reportlab-4.2.5\n"
          ]
        }
      ]
    },
    {
      "cell_type": "code",
      "execution_count": null,
      "metadata": {
        "colab": {
          "base_uri": "https://localhost:8080/"
        },
        "id": "htJ8Bys_BJfp",
        "outputId": "6051f070-a7b3-4076-9e42-0e04e35f9de1"
      },
      "outputs": [
        {
          "output_type": "stream",
          "name": "stdout",
          "text": [
            "Collecting PyPDF2\n",
            "  Downloading pypdf2-3.0.1-py3-none-any.whl.metadata (6.8 kB)\n",
            "Downloading pypdf2-3.0.1-py3-none-any.whl (232 kB)\n",
            "\u001b[?25l   \u001b[90m━━━━━━━━━━━━━━━━━━━━━━━━━━━━━━━━━━━━━━━━\u001b[0m \u001b[32m0.0/232.6 kB\u001b[0m \u001b[31m?\u001b[0m eta \u001b[36m-:--:--\u001b[0m\r\u001b[2K   \u001b[91m━━━━━━━━━━━━━━━━━━━━━━━━━━━━━━━━━━━━━━\u001b[0m\u001b[91m╸\u001b[0m\u001b[90m━\u001b[0m \u001b[32m225.3/232.6 kB\u001b[0m \u001b[31m9.1 MB/s\u001b[0m eta \u001b[36m0:00:01\u001b[0m\r\u001b[2K   \u001b[90m━━━━━━━━━━━━━━━━━━━━━━━━━━━━━━━━━━━━━━━━\u001b[0m \u001b[32m232.6/232.6 kB\u001b[0m \u001b[31m6.1 MB/s\u001b[0m eta \u001b[36m0:00:00\u001b[0m\n",
            "\u001b[?25hInstalling collected packages: PyPDF2\n",
            "Successfully installed PyPDF2-3.0.1\n"
          ]
        }
      ],
      "source": [
        "!pip install PyPDF2"
      ]
    },
    {
      "cell_type": "code",
      "source": [
        "raw_path = \"/content/raw_data\""
      ],
      "metadata": {
        "id": "V6q56BJ2HdHc"
      },
      "execution_count": null,
      "outputs": []
    },
    {
      "cell_type": "markdown",
      "source": [
        "Проверка и очистка данных"
      ],
      "metadata": {
        "id": "vcKJYlxKElM3"
      }
    },
    {
      "cell_type": "code",
      "source": [
        "import os\n",
        "from PyPDF2 import PdfReader\n",
        "\n",
        "def check_pdf_files(directory):\n",
        "    for filename in os.listdir(directory):\n",
        "        if filename.endswith(\".pdf\"):\n",
        "            try:\n",
        "                path = os.path.join(directory, filename)\n",
        "                PdfReader(path)  # Пробуем открыть файл\n",
        "                print(f\"{filename}: OK\")\n",
        "            except Exception as e:\n",
        "                print(f\"{filename}: Error - {e}\")\n",
        "\n",
        "check_pdf_files(raw_path)\n"
      ],
      "metadata": {
        "colab": {
          "base_uri": "https://localhost:8080/"
        },
        "id": "w42MBiXQBNCW",
        "outputId": "8f31503b-ec78-4c76-c3b6-f91843b18789"
      },
      "execution_count": null,
      "outputs": [
        {
          "output_type": "stream",
          "name": "stdout",
          "text": [
            "2C45NWO7FMTDRTBBR6FA442OZKSCLGZZ.pdf: OK\n",
            "25OOF5WZSJ4M6JG3BPYDO56GYBR65WET.pdf: OK\n",
            "2426HG2RXRZNRHX3YHORDF5C57PPAAHE (1).pdf: OK\n",
            "2426HG2RXRZNRHX3YHORDF5C57PPAAHE (1) (1).pdf: OK\n",
            "2L5JFJNVCBULD4V5UFNMPUKWM3BYSSYC (1).pdf: OK\n",
            "27CRLC3DDVOHBJ27UZSHYXRO3OB4BHIY.pdf: OK\n",
            "2NYYOQN3UKYWMKXDAMTWP4ZNMGBBTLCA.pdf: OK\n",
            "2IOECB7XKI56SDSRDXHXTAUDGCMYTVI7.pdf: OK\n",
            "business-policy.pdf: OK\n"
          ]
        }
      ]
    },
    {
      "cell_type": "markdown",
      "source": [
        "Удаление пропусков и пустых слайдов"
      ],
      "metadata": {
        "id": "whGKGVCEEuPq"
      }
    },
    {
      "cell_type": "code",
      "source": [
        "import fitz  # PyMuPDF\n",
        "\n",
        "def check_empty_slides(directory):\n",
        "    empty_slides = []\n",
        "    for filename in os.listdir(directory):\n",
        "        if filename.endswith(\".pdf\"):\n",
        "            path = os.path.join(directory, filename)\n",
        "            doc = fitz.open(path)\n",
        "\n",
        "            for page_num in range(len(doc)):\n",
        "                page = doc[page_num]\n",
        "                text = page.get_text()\n",
        "                if not text.strip():  # Если текст пустой\n",
        "                    empty_slides.append((filename, page_num + 1))\n",
        "\n",
        "    if empty_slides:\n",
        "        print(\"Пустые слайды:\")\n",
        "        for slide in empty_slides:\n",
        "            print(f\"Файл: {slide[0]}, Слайд: {slide[1]}\")\n",
        "    else:\n",
        "        print(\"Пустых слайдов не найдено.\")\n",
        "\n",
        "check_empty_slides(raw_path)\n"
      ],
      "metadata": {
        "colab": {
          "base_uri": "https://localhost:8080/"
        },
        "id": "OHI3xvmwEtv5",
        "outputId": "a57d391b-1ccb-46d2-ce8d-87c9251bf986"
      },
      "execution_count": null,
      "outputs": [
        {
          "output_type": "stream",
          "name": "stdout",
          "text": [
            "Пустые слайды:\n",
            "Файл: 2L5JFJNVCBULD4V5UFNMPUKWM3BYSSYC (1).pdf, Слайд: 21\n",
            "Файл: 2L5JFJNVCBULD4V5UFNMPUKWM3BYSSYC (1).pdf, Слайд: 22\n",
            "Файл: 2L5JFJNVCBULD4V5UFNMPUKWM3BYSSYC (1).pdf, Слайд: 23\n",
            "Файл: 2L5JFJNVCBULD4V5UFNMPUKWM3BYSSYC (1).pdf, Слайд: 24\n",
            "Файл: 2L5JFJNVCBULD4V5UFNMPUKWM3BYSSYC (1).pdf, Слайд: 25\n"
          ]
        }
      ]
    },
    {
      "cell_type": "markdown",
      "source": [
        "Выбросы"
      ],
      "metadata": {
        "id": "WVRZgJnkE2be"
      }
    },
    {
      "cell_type": "code",
      "source": [
        "def check_image_only_pages(directory):\n",
        "    image_only_pages = []\n",
        "    for filename in os.listdir(directory):\n",
        "        if filename.endswith(\".pdf\"):\n",
        "            path = os.path.join(directory, filename)\n",
        "            doc = fitz.open(path)\n",
        "\n",
        "            for page_num in range(len(doc)):\n",
        "                page = doc[page_num]\n",
        "                text = page.get_text()\n",
        "\n",
        "                # Проверим, есть ли текст или только изображения\n",
        "                if not text.strip() and len(page.get_images(full=True)) > 0:\n",
        "                    image_only_pages.append((filename, page_num + 1))\n",
        "\n",
        "    if image_only_pages:\n",
        "        print(\"Страницы с изображениями, без текста:\")\n",
        "        for page in image_only_pages:\n",
        "            print(f\"Файл: {page[0]}, Слайд: {page[1]}\")\n",
        "    else:\n",
        "        print(\"Нет страниц с изображениями без текста.\")\n",
        "\n",
        "check_image_only_pages(raw_path)\n"
      ],
      "metadata": {
        "colab": {
          "base_uri": "https://localhost:8080/"
        },
        "id": "BnXIxUbLE3Ei",
        "outputId": "3c379b39-2298-4573-b68e-31f789165953"
      },
      "execution_count": null,
      "outputs": [
        {
          "output_type": "stream",
          "name": "stdout",
          "text": [
            "Страницы с изображениями, без текста:\n",
            "Файл: 2L5JFJNVCBULD4V5UFNMPUKWM3BYSSYC (1).pdf, Слайд: 21\n",
            "Файл: 2L5JFJNVCBULD4V5UFNMPUKWM3BYSSYC (1).pdf, Слайд: 22\n",
            "Файл: 2L5JFJNVCBULD4V5UFNMPUKWM3BYSSYC (1).pdf, Слайд: 23\n",
            "Файл: 2L5JFJNVCBULD4V5UFNMPUKWM3BYSSYC (1).pdf, Слайд: 24\n",
            "Файл: 2L5JFJNVCBULD4V5UFNMPUKWM3BYSSYC (1).pdf, Слайд: 25\n"
          ]
        }
      ]
    },
    {
      "cell_type": "markdown",
      "source": [
        "Отчет об ошибках"
      ],
      "metadata": {
        "id": "_2DFc3I7FHQn"
      }
    },
    {
      "cell_type": "code",
      "source": [
        "import json\n",
        "\n",
        "def generate_clean_report(directory):\n",
        "    report = []\n",
        "    for filename in os.listdir(directory):\n",
        "        if filename.endswith(\".pdf\"):\n",
        "            path = os.path.join(directory, filename)\n",
        "            doc = fitz.open(path)\n",
        "            file_report = {\"file\": filename, \"empty_pages\": []}\n",
        "\n",
        "            for page_num in range(len(doc)):\n",
        "                page = doc[page_num]\n",
        "                text = page.get_text()\n",
        "                if not text.strip():\n",
        "                    file_report[\"empty_pages\"].append(page_num + 1)\n",
        "\n",
        "            if file_report[\"empty_pages\"]:\n",
        "                report.append(file_report)\n",
        "    print(report)\n",
        "    # Сохранить отчет в JSON\n",
        "    with open(\"cleaning_report.json\", \"w\") as f:\n",
        "        json.dump(report, f, indent=4)\n",
        "\n",
        "generate_clean_report(raw_path)\n"
      ],
      "metadata": {
        "colab": {
          "base_uri": "https://localhost:8080/"
        },
        "id": "bf_U_DW2FGqf",
        "outputId": "cb814084-07e8-4eae-c4d0-b0734966bf2d"
      },
      "execution_count": null,
      "outputs": [
        {
          "output_type": "stream",
          "name": "stdout",
          "text": [
            "[{'file': '2L5JFJNVCBULD4V5UFNMPUKWM3BYSSYC (1).pdf', 'empty_pages': [21, 22, 23, 24, 25]}]\n"
          ]
        }
      ]
    },
    {
      "cell_type": "code",
      "source": [
        "import os\n",
        "import re\n",
        "from datetime import datetime\n",
        "\n",
        "def rename_presentation_files(directory):\n",
        "    for filename in os.listdir(directory):\n",
        "        if filename.endswith(\".pdf\"):\n",
        "            # Получаем полный путь\n",
        "            old_path = os.path.join(directory, filename)\n",
        "\n",
        "            # Убираем расширение файла\n",
        "            base_name = os.path.splitext(filename)[0]\n",
        "\n",
        "            # Применяем преобразования для улучшения читаемости имени\n",
        "            # Пример: удаление ненужных символов, замена пробелов на нижнее подчеркивание и приведение к нижнему регистру\n",
        "            new_base_name = re.sub(r'[^\\w\\s]', '', base_name)  # Убираем все спецсимволы\n",
        "            new_base_name = new_base_name.replace(\" \", \"_\")  # Заменяем пробелы на подчеркивания\n",
        "            new_base_name = new_base_name.lower()  # Приводим к нижнему регистру\n",
        "\n",
        "            # Добавление метки времени (например, если у вас есть несколько версий одной презентации)\n",
        "            timestamp = datetime.now().strftime(\"%Y%m%d_%H%M%S\")\n",
        "            new_name = f\"{new_base_name}_{timestamp}.pdf\"\n",
        "\n",
        "            # Новый путь для файла\n",
        "            new_path = os.path.join(directory, new_name)\n",
        "\n",
        "            # Переименование файла\n",
        "            os.rename(old_path, new_path)\n",
        "            print(f\"Файл '{filename}' переименован в '{new_name}'\")\n",
        "\n",
        "# Пример использования\n",
        "rename_presentation_files(raw_path)\n"
      ],
      "metadata": {
        "colab": {
          "base_uri": "https://localhost:8080/"
        },
        "id": "xmxrcHk_GBo-",
        "outputId": "5ded7393-6ace-4340-a71e-9d5ef3adac3c"
      },
      "execution_count": null,
      "outputs": [
        {
          "output_type": "stream",
          "name": "stdout",
          "text": [
            "Файл '2C45NWO7FMTDRTBBR6FA442OZKSCLGZZ.pdf' переименован в '2c45nwo7fmtdrtbbr6fa442ozksclgzz_20241209_155313.pdf'\n",
            "Файл '25OOF5WZSJ4M6JG3BPYDO56GYBR65WET.pdf' переименован в '25oof5wzsj4m6jg3bpydo56gybr65wet_20241209_155313.pdf'\n",
            "Файл '2426HG2RXRZNRHX3YHORDF5C57PPAAHE (1).pdf' переименован в '2426hg2rxrznrhx3yhordf5c57ppaahe_1_20241209_155313.pdf'\n",
            "Файл '2426HG2RXRZNRHX3YHORDF5C57PPAAHE (1) (1).pdf' переименован в '2426hg2rxrznrhx3yhordf5c57ppaahe_1_1_20241209_155313.pdf'\n",
            "Файл '2L5JFJNVCBULD4V5UFNMPUKWM3BYSSYC (1).pdf' переименован в '2l5jfjnvcbuld4v5ufnmpukwm3byssyc_1_20241209_155313.pdf'\n",
            "Файл '27CRLC3DDVOHBJ27UZSHYXRO3OB4BHIY.pdf' переименован в '27crlc3ddvohbj27uzshyxro3ob4bhiy_20241209_155313.pdf'\n",
            "Файл '2NYYOQN3UKYWMKXDAMTWP4ZNMGBBTLCA.pdf' переименован в '2nyyoqn3ukywmkxdamtwp4znmgbbtlca_20241209_155313.pdf'\n",
            "Файл '2IOECB7XKI56SDSRDXHXTAUDGCMYTVI7.pdf' переименован в '2ioecb7xki56sdsrdxhxtaudgcmytvi7_20241209_155313.pdf'\n",
            "Файл 'business-policy.pdf' переименован в 'businesspolicy_20241209_155313.pdf'\n"
          ]
        }
      ]
    }
  ]
}